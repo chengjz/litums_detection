{
  "nbformat": 4,
  "nbformat_minor": 0,
  "metadata": {
    "colab": {
      "name": "process_images.ipynb",
      "provenance": [],
      "collapsed_sections": []
    },
    "kernelspec": {
      "name": "python3",
      "display_name": "Python 3"
    },
    "language_info": {
      "name": "python"
    }
  },
  "cells": [
    {
      "cell_type": "markdown",
      "source": [
        "# Litmus image processing\n",
        "\n",
        "**to use this notebook, first click the following link to run the notebook in google colab:**\n",
        "\n",
        "<a target=\"_blank\" href=\"https://colab.research.google.com/github/chengjz/litums_detection/blob/master/process_images.ipynb\">Run in Google Colab</a><br><br>\n",
        "This notebook will call the litmus_detection script on all of the photos you want to analyze in google colab. With this notebook, there is no need to install python3, opencv, etc on to your machine. \n",
        "\n",
        "\n",
        "---\n",
        "\n",
        "\n",
        "### cell 1: mounting to drive\n",
        "This cell \"mounts\" your notebook to drive so that you can access/work in google drive. This cell needs to be run once every session."
      ],
      "metadata": {
        "id": "kNrwhGoYwFmp"
      }
    },
    {
      "cell_type": "code",
      "source": [
        "from google.colab import drive\n",
        "drive.mount('/content/drive',)"
      ],
      "metadata": {
        "id": "3g-N3Y1Cy6-4"
      },
      "execution_count": null,
      "outputs": []
    },
    {
      "cell_type": "markdown",
      "source": [
        "\n",
        "\n",
        "---\n",
        "\n",
        "### cell 2: setting up your folders\n",
        "this cell will create a project folder in drive and clone the repo from https://github.com/chengjz/litums_detection.git into that folder. Note that this particular cell only needs to be run once when initially setting up your folder system. It will only make the new folder and clone the repo if this has not already been done (so no worries if you accidentally run it again).<br>\n",
        "**There are two folders for photos created here labeled: \"cropped photos output\" and \"testing photos\".**<br><br>\n",
        "\n",
        "**to use the folder system:**\n",
        "1. Navigate in your drive to the \"testing photos\" folder\n",
        "2. Upload any photos to test into this folder \n",
        "3. Name the photos so that the concentration is listed first (i.e. **1.00**_any_additional_info.jpg)\n",
        "4. the processed images (the wb frame and detected litmus squares) will be output into the \"cropped photos output\" folder"
      ],
      "metadata": {
        "id": "lrgdGpI2xbfK"
      }
    },
    {
      "cell_type": "code",
      "source": [
        "import os\n",
        "from os import path\n",
        "\n",
        "# creating the project folder\n",
        "if path.exists('/content/drive/MyDrive/project') == False:\n",
        "  os.mkdir('/content/drive/MyDrive/project')\n",
        "% cd /content/drive/MyDrive/project\n",
        "\n",
        "# cloning the git repo into the project folder\n",
        "if path.exists(\"/content/drive/MyDrive/project/litums_detection\") == False:\n",
        "  !  git init\n",
        "  !  git clone https://github.com/chengjz/litums_detection.git\n",
        "  !  git pull\n",
        "# creating the testing photos and cropped photos output folders  \n",
        "  os.mkdir('/content/drive/MyDrive/project/testing photos')\n",
        "  os.mkdir('/content/drive/MyDrive/project/cropped photos output')"
      ],
      "metadata": {
        "id": "1xW5SmsAkqoq"
      },
      "execution_count": null,
      "outputs": []
    },
    {
      "cell_type": "markdown",
      "source": [
        "\n",
        "\n",
        "---\n",
        "### cell 3: importing litmus_detection script\n",
        "\n",
        "This cell imports the litmus_detection script and other neccessary moldues."
      ],
      "metadata": {
        "id": "jExGwZAXyHBF"
      }
    },
    {
      "cell_type": "code",
      "execution_count": null,
      "metadata": {
        "id": "g3dfZi_6NuM6"
      },
      "outputs": [],
      "source": [
        "#importing neccessary modules and the litmus detection script\n",
        "% cd ..\n",
        "% cd /content/drive/MyDrive/project/litums_detection\n",
        "import sys  \n",
        "path_to_module = \"/content/drive/MyDrive/project/litums_detection\"\n",
        "sys.path.append(path_to_module)\n",
        "import litmus_detection as ld\n",
        "import cv2"
      ]
    },
    {
      "cell_type": "markdown",
      "source": [
        "\n",
        "\n",
        "---\n",
        "\n",
        "\n",
        "### cell 4: Running the script\n",
        "This cell will actually run the litmus detection script. This script will:\n",
        "1. iterate through all of the photos in your testing photos folder\n",
        "2. call the litmus detection script on each photo (and print out an error message if the code does not work for example if the QR code is not read)\n",
        "3. output the wb strip and detected litmus squares to the cropped photos output folder\n",
        "4. add the blue, green, and red values to a pandas data frame for all of the photos **(note that opencv order is blue, green, red. Not red, green, blue).**\n",
        "5. print the final pandas dataframe and output this to an excel file in your main project folder"
      ],
      "metadata": {
        "id": "83YxGMNK1uvD"
      }
    },
    {
      "cell_type": "code",
      "source": [
        "import pandas as pd\n",
        "\n",
        "# creating the free and total dataframes that will be filled with bgr values\n",
        "free_df = pd.DataFrame({'free conc': [],'blue val': [],'green val': [],'red val': []})\n",
        "total_df = pd.DataFrame({'total conc': [],'blue val': [],'green val': [],'red val': []})\n",
        "index = 0\n",
        "\n",
        "# iterating through all of the images in the testing photos folder\n",
        "for root, dirs, files in os.walk(\"/content/drive/MyDrive/project/testing photos\"):\n",
        "  for fn in files:\n",
        "    if fn.find(\".jpg\") > 0 or fn.find(\".png\") > 0:\n",
        "      print(fn[:-4])\n",
        "      file_Path = os.path.join(root, fn)\n",
        "      try:\n",
        "        frame = cv2.imread(file_Path)\n",
        "        \n",
        "        # calling the litmus detection script\n",
        "        free_circle_cropped_img, free_bgr, total_circle_cropped_img, total_bgr, wb = ld.processing_img(frame)\n",
        "        \n",
        "        # outputing the wb strip and detected litmus squares to the cropped photos output folder\n",
        "        cv2.imwrite(\"/content/drive/MyDrive/project/cropped photos output/\"+fn[:-4]+\"_free.jpg\",free_circle_cropped_img)\n",
        "        cv2.imwrite(\"/content/drive/MyDrive/project/cropped photos output/\"+fn[:-4]+\"_total.jpg\",total_circle_cropped_img)\n",
        "        cv2.imwrite(\"/content/drive/MyDrive/project/cropped photos output/\"+fn[:-4]+\"_wb_strip.jpg\", wb)\n",
        "        \n",
        "        # adding the b, g and r values to the pandas dataframes\n",
        "        free_df.loc[index] = [float(fn[:4])]+free_bgr\n",
        "        total_df.loc[index] = [float(fn[:4])]+total_bgr\n",
        "        index += 1\n",
        "        print(\"----------------------------------------------------------\")\n",
        "      except:\n",
        "        #if in an error occurs (such as QR code not being read)\n",
        "        print(fn)\n",
        "        print(\"error\")\n",
        "        print(\"----------------------------------------------------------\")\n",
        "\n",
        "# printing the final free and total dataframes and outputting it to excel   \n",
        "print(\"free data frame\")\n",
        "print(free_df)\n",
        "print(\"total data frame\")\n",
        "print(total_df)\n",
        "\n",
        "with pd.ExcelWriter(\"/content/drive/MyDrive/project/output.xlsx\",mode=\"w\") as writer:\n",
        "  free_df.to_excel(writer,sheet_name=\"free\")\n",
        "  total_df.to_excel(writer,sheet_name=\"total\")\n"
      ],
      "metadata": {
        "id": "FC4e43ZoXHRb"
      },
      "execution_count": null,
      "outputs": []
    }
  ]
}